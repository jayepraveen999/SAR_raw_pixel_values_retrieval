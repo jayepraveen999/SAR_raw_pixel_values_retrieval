{
 "cells": [
  {
   "cell_type": "markdown",
   "id": "59014457",
   "metadata": {},
   "source": [
    "## Script to download Sentinel 1 SAR data"
   ]
  },
  {
   "cell_type": "code",
   "execution_count": null,
   "id": "b228fa1f",
   "metadata": {},
   "outputs": [],
   "source": [
    "# importing necessary modules\n",
    "from sentinelsat import SentinelAPI, read_geojson, geojson_to_wkt\n",
    "from datetime import date\n",
    "\n",
    "# to access data using api, provide the cropernicus login details\n",
    "api = SentinelAPI('#username', '#password','https://apihub.copernicus.eu/apihub')\n",
    "\n",
    "# download data with ROI\n",
    "footprint = geojson_to_wkt(read_geojson('studyarea.geojson'))\n",
    "\n",
    "# retreive all products from API with filters \n",
    "products = api.query(footprint,\n",
    "                     date=('20180801', '20180825'),\n",
    "                     producttype='GRD',\n",
    "                     platformname='Sentinel-1',\n",
    "                     relativeorbitnumber = 168,\n",
    "                     slicenumber = 21,\n",
    "                    filename = 'S1A*',\n",
    "                     orbitdirection = \"DESCENDING\"\n",
    "                     \n",
    "                    )\n",
    "\n",
    "# storing JSON in dataframe for better understanding \n",
    "products_df = api.to_dataframe(products)\n",
    "\n",
    "# no of products\n",
    "print(len(products_df))\n",
    "\n",
    "# to calculate the average storage in GB it occupies\n",
    "# print(len(products_df)*4)\n",
    "\n",
    "# download the products\n",
    "api.download_all(products)"
   ]
  },
  {
   "cell_type": "code",
   "execution_count": null,
   "id": "acf443ce",
   "metadata": {},
   "outputs": [],
   "source": []
  },
  {
   "cell_type": "markdown",
   "id": "bea0b627",
   "metadata": {},
   "source": [
    "## Function to process SAR data and retreive intensity and phase values at paticular x,y"
   ]
  },
  {
   "cell_type": "markdown",
   "id": "8740e556",
   "metadata": {},
   "source": [
    "Note:\n",
    "Currently, Snappy (python API for SNAP) offers this processing via function calls but requires SNAP software to be installed and limited to specific python versions (2.7,3.4,3.5,3.6). I have used python version 3.6 to perform geocoding. "
   ]
  },
  {
   "cell_type": "markdown",
   "id": "9f45853f",
   "metadata": {},
   "source": [
    "### Initial processing till terrain correction"
   ]
  },
  {
   "cell_type": "code",
   "execution_count": null,
   "id": "3417cc77",
   "metadata": {},
   "outputs": [],
   "source": [
    "# importing necessary modules\n",
    "\n",
    "from snappy import jpy, ProgressMonitor, ProductIO\n",
    "from snappy import HashMap\n",
    "\n",
    "import os, gc\n",
    "from snappy import GPF"
   ]
  },
  {
   "cell_type": "code",
   "execution_count": 170,
   "id": "990f7150",
   "metadata": {},
   "outputs": [],
   "source": [
    "def terrain_corrected(path,filename,polarization,subswath,burstStart,burstEnd):\n",
    "    \n",
    "    file_path = path\n",
    "    pol = polarization\n",
    "    sub_swath = subswath\n",
    "    b_start = burstStart\n",
    "    b_end = burstEnd\n",
    "    filename = filename\n",
    "    \n",
    "    source_bands_needed = f\"Intensity_{subswath}_{polarization},i_{subswath}_{polarization},q_{subswath}_{polarization}\"\n",
    "\n",
    "    params={\n",
    "        # TOPSAR-split\n",
    "        \"subswath\": sub_swath,\n",
    "        \"selectedPolarisations\": pol,\n",
    "        \"firstBurstIndex\": b_start,\n",
    "        \"lastBurstIndex\": b_end,\n",
    "\n",
    "        # Apply-Orbit-File\n",
    "        \"continuteOnFail\": True,\n",
    "        \"orbitType\" : \"Sentinel Precise (Auto Download)\",\n",
    "        # TOPSAR-Deburst\n",
    "\n",
    "        # Terrain-Correction\n",
    "        \"demName\":'SRTM 1Sec HGT',\n",
    "        \"pixelSpacingInMeter\": 10.0,\n",
    "        \"sourceBands\": source_bands_needed,\n",
    "        \"outputComplex\": True\n",
    "\n",
    "    }\n",
    "    \n",
    "#     reading the sar data from path (make sure it is .zip file path)\n",
    "    prod_data = ProductIO.readProduct(path)\n",
    "    \n",
    "    GPF.getDefaultInstance().getOperatorSpiRegistry().loadOperatorSpis()\n",
    "\n",
    "#     topsarsplit\n",
    "    t1_spt = GPF.createProduct(\"TOPSAR-Split\", parameters, prod_data)\n",
    "    # ProductIO.writeProduct(t1_spt, \"splt\", 'BEAM-DIMAP')\n",
    "\n",
    "#     Applyorbitfile\n",
    "    t1_spt_orb = GPF.createProduct(\"Apply-Orbit-File\", parameters, t1_spt)\n",
    "    # ProductIO.writeProduct(t1_spt_orb, \"splt_orb\", 'BEAM-DIMAP')\n",
    "\n",
    "#     deburst\n",
    "    dbt = GPF.createProduct(\"TOPSAR-Deburst\", parameters, t1_spt_orb)\n",
    "    # ProductIO.writeProduct(dbt, \"splt_orb_db\", 'BEAM-DIMAP')\n",
    "\n",
    "#     range-doppler terrain correction\n",
    "    TC = GPF.createProduct(\"Terrain-Correction\", parameters, dbt)\n",
    "    # ProductIO.writeProduct(TC, \"splt_orb_db_TC3\", 'BEAM-DIMAP')\n",
    "    \n",
    "#     saving geocoded product in GEOTIFF format\n",
    "    ProductIO.writeProduct(TC, filename+\"splt_orb_db_TC4\", 'GEOTIFF')\n",
    "    \n",
    "    return\n",
    "    \n",
    "    "
   ]
  },
  {
   "cell_type": "code",
   "execution_count": 172,
   "id": "2f36a27c",
   "metadata": {},
   "outputs": [],
   "source": [
    "# user declared variables\n",
    "base_path = r'C:\\Users\\ge26fax\\Documents\\Remote_Sensing_Seminar\\Project\\slaves'\n",
    "directory = '20170203'\n",
    "filename = 'S1A_IW_SLC__1SDV_20170203T052728_20170203T052755_015115_018B6D_FA11.zip'\n",
    "\n",
    "# Combine the variables to create the complete file path\n",
    "file_path = rf\"{base_path}\\{directory}\\{filename}\"\n",
    "\n",
    "# according to user specifications\n",
    "polarization = 'VV'\n",
    "subswath = 'IW3'\n",
    "burstStart = 6\n",
    "burstEnd = 6\n",
    "\n"
   ]
  },
  {
   "cell_type": "code",
   "execution_count": null,
   "id": "88e21ea2",
   "metadata": {},
   "outputs": [],
   "source": [
    "# call the function to get geocoded product\n",
    "terrain_corrected(path,filename, polarization, subswath, burstStart, burstEnd)"
   ]
  },
  {
   "cell_type": "code",
   "execution_count": null,
   "id": "9cbcdbb9",
   "metadata": {},
   "outputs": [],
   "source": []
  },
  {
   "cell_type": "markdown",
   "id": "da6284d7",
   "metadata": {},
   "source": [
    "### Reading geocoded product in rasterio and saving the raw intensity and complex values"
   ]
  },
  {
   "cell_type": "markdown",
   "id": "cb6e786d",
   "metadata": {},
   "source": [
    "Note: Rasterio has to be installed before using it. It has GDAL as dependency, so make sure that GDAL is also installed."
   ]
  },
  {
   "cell_type": "code",
   "execution_count": null,
   "id": "3dab02d8",
   "metadata": {},
   "outputs": [],
   "source": [
    "# importing rasterio library \n",
    "import rasterio\n",
    "import datetime\n",
    "import pandas as pd\n",
    "\n",
    "# Define an empty dictionary with the column names\n",
    "data = {\n",
    "    'time': [],\n",
    "    'intensity': [],\n",
    "    'complex_i': [],\n",
    "    'complex_q_phase': []\n",
    "}\n",
    "\n",
    "# Create a DataFrame from the empty dictionary\n",
    "df = pd.DataFrame(data)\n",
    "\n",
    "# function to calculate time\n",
    "def know_the_unix_time(filename):\n",
    "    # Define the input filename as a string\n",
    "    filename = filename\n",
    "\n",
    "    # Extract the datetime part of the filename\n",
    "    datetime_str = filename.split('_')[5]\n",
    "\n",
    "    # Convert the datetime string to a datetime object\n",
    "    datetime_obj = datetime.datetime.strptime(datetime_str, '%Y%m%dT%H%M%S')\n",
    "\n",
    "    #  Epoch time\n",
    "    epoch_time = datetime_obj.timestamp()\n",
    "    # Print the epoch time\n",
    "    return epoch_time\n"
   ]
  },
  {
   "cell_type": "code",
   "execution_count": 123,
   "id": "79c847d1",
   "metadata": {},
   "outputs": [],
   "source": [
    "\n",
    "# function to get the pixel values\n",
    "def get_intensity_phase_values(path,filename,x,y,df):\n",
    "\n",
    "    # give the path to the geocoded product\n",
    "    dataset = rasterio.open(path)\n",
    "    \n",
    "    # get the time\n",
    "    epoch_time = know_the_unix_time(filename)\n",
    "    \n",
    "    # getting values of intensity,complex part     \n",
    "    val =list(dataset.sample([(x,y)]))\n",
    "    \n",
    "    # the bands are ordered as intensity,complex i and complex q\n",
    "    # intensity\n",
    "    intensity_value = val[0][0]\n",
    "    # complex_i\n",
    "    complex_i_value = val[0][1]\n",
    "    # complex_q (phase)\n",
    "    complex_q_value = val[0][2]\n",
    "    \n",
    "    # appending the datarecord to the df\n",
    "    \n",
    "    df.loc[len(df.index)] = [epoch_time, intensity_value,complex_i_value,complex_q_value]\n",
    "\n",
    "    return df"
   ]
  },
  {
   "cell_type": "code",
   "execution_count": null,
   "id": "0579efc5",
   "metadata": {},
   "outputs": [],
   "source": [
    "# sample x and y values\n",
    "\n",
    "x = (dataset.bounds.left + dataset.bounds.right) / 2.0\n",
    "y = (dataset.bounds.bottom + dataset.bounds.top) / 2.0\n",
    "\n",
    "# path to the geocoded tif file from the terrain_corrected function\n",
    "path  = r'C:/Users/ge26fax/Documents/Remote_Sensing_Seminar/S1A_IW_SLC__1SDV_20170203T052728_20170203T052755_015115_018B6D_FA11.zipsplt_orb_db_TC4.tif'\n",
    "filename = 'S1A_IW_SLC__1SDV_20170203T052728_20170203T052755_015115_018B6D_FA11.zip'\n"
   ]
  },
  {
   "cell_type": "code",
   "execution_count": null,
   "id": "06f1fbec",
   "metadata": {},
   "outputs": [],
   "source": [
    "# get_intensity_phase_values function call\n",
    "\n",
    "get_intensity_phase_values(path,filename,x,y,df)"
   ]
  },
  {
   "cell_type": "code",
   "execution_count": null,
   "id": "fd0df635",
   "metadata": {},
   "outputs": [],
   "source": []
  },
  {
   "cell_type": "markdown",
   "id": "1cc3a6b7",
   "metadata": {},
   "source": [
    "Authors: Jayendra Praveen Kumar Chorapalli\n",
    "Affiliation: M.Sc TUM \n",
    "Program: ESPACE\n",
    "contact: jayendra.chorapalli@tum.de"
   ]
  },
  {
   "cell_type": "code",
   "execution_count": null,
   "id": "6e7e2157",
   "metadata": {},
   "outputs": [],
   "source": []
  }
 ],
 "metadata": {
  "kernelspec": {
   "display_name": "Python 3 (ipykernel)",
   "language": "python",
   "name": "python3"
  },
  "language_info": {
   "codemirror_mode": {
    "name": "ipython",
    "version": 3
   },
   "file_extension": ".py",
   "mimetype": "text/x-python",
   "name": "python",
   "nbconvert_exporter": "python",
   "pygments_lexer": "ipython3",
   "version": "3.7.6"
  }
 },
 "nbformat": 4,
 "nbformat_minor": 5
}
