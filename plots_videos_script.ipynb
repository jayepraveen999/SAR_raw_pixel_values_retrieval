{
 "cells": [
  {
   "cell_type": "markdown",
   "id": "0c573025",
   "metadata": {},
   "source": [
    "## Additional script to add texts on images , make videos , "
   ]
  },
  {
   "cell_type": "markdown",
   "id": "d6560627",
   "metadata": {},
   "source": [
    "### Directory of Images to Video"
   ]
  },
  {
   "cell_type": "code",
   "execution_count": 25,
   "id": "69ce3d88",
   "metadata": {},
   "outputs": [],
   "source": [
    "import cv2\n",
    "import os\n",
    "\n",
    "# Define the path to the directory containing the images\n",
    "# img_dir = \"images_displacement\"\n",
    "# img_dir = 'cropped_images_with_names/'\n",
    "img_dir = '/Users/chorapallijayendrapraveenkumar/Downloads/cropped/'\n",
    "\n",
    "# Get a list of all the image files in the directory\n",
    "images = [img for img in os.listdir(img_dir) if img.endswith(\".png\")]\n",
    "\n",
    "# Sort the list of images by their file names\n",
    "images.sort()\n",
    "\n",
    "# Get the height and width of the first image to set the output video parameters\n",
    "frame = cv2.imread(os.path.join(img_dir, images[0]))\n",
    "height, width, _ = frame.shape\n",
    "\n",
    "# Define the video writer object\n",
    "out = cv2.VideoWriter(\"/Users/chorapallijayendrapraveenkumar/Downloads/image_video_geometry.avi\", cv2.VideoWriter_fourcc(*\"MJPG\"), 0.8, (width, height))\n",
    "\n",
    "# Loop through all the images and add each one to the video\n",
    "for image in images:\n",
    "    frame = cv2.imread(os.path.join(img_dir, image))\n",
    "    out.write(frame)\n",
    "\n",
    "# Release the video writer object\n",
    "out.release()"
   ]
  },
  {
   "cell_type": "markdown",
   "id": "2dd2441f",
   "metadata": {},
   "source": [
    "### Plot of mean displacement values of Ponte Morandi bridge using D-InSAR "
   ]
  },
  {
   "cell_type": "code",
   "execution_count": 20,
   "id": "2511e5e4",
   "metadata": {},
   "outputs": [
    {
     "data": {
      "image/png": "[encoded data removed]",
      "text/plain": [
       "<Figure size 720x360 with 2 Axes>"
      ]
     },
     "metadata": {
      "needs_background": "light"
     },
     "output_type": "display_data"
    }
   ],
   "source": [
    "import matplotlib.pyplot as plt\n",
    "import matplotlib.cm as cm\n",
    "import matplotlib.colorbar as cbar\n",
    "import numpy as np\n",
    "import pandas as pd\n",
    "\n",
    "# data\n",
    "# dates = ['05 May-17 May', '17 May-29 May', '29 May-10 June', '10 June-22 June', '22 June-04 July', '04 July-16 July', '16 July-28 July', '28 July-09 Aug']\n",
    "dates = ['17 May', '29 May', '10 June', '22 June', '04 July', '16 July', '28 July', '09 Aug']\n",
    "displacement_values = [0, -0.01621095231, -0.03015310658, 0, -0.07024789758, 0, 0, -0.04389245998]\n",
    "\n",
    "# plotting\n",
    "fig = plt.figure(figsize=(10, 5))\n",
    "scatter = plt.scatter(dates, displacement_values, c=displacement_values, cmap='RdYlGn')\n",
    "\n",
    "# adding labels and title\n",
    "plt.xlabel('Dates of Interferogram',fontsize = 10, fontweight='bold')\n",
    "plt.ylabel('displacement in meters',fontsize = 10, fontweight='bold')\n",
    "plt.title('Average displacement values of Ponte Morandi Bridge using MT-InSAR \\n', fontsize = 14, fontweight='bold')\n",
    "\n",
    "# Rotate the x-axis labels vertically\n",
    "# plt.xticks(rotation=90)\n",
    "\n",
    "# Add the colorbar as a ramp in the legend\n",
    "cbar = plt.colorbar(scatter, shrink=0.5, pad=0.05)\n",
    "cbar.ax.set_ylabel('Displacement Values (meters)', rotation=270, labelpad=20)\n",
    "\n",
    "\n",
    "\n",
    "# Show the plot\n",
    "plt.savefig('Displacement_MT-InSAR.jpeg')\n",
    "plt.show()\n",
    "\n"
   ]
  },
  {
   "cell_type": "markdown",
   "id": "7dbf9bfd",
   "metadata": {},
   "source": [
    "### Adding text to images"
   ]
  },
  {
   "cell_type": "code",
   "execution_count": 23,
   "id": "d342bfe1",
   "metadata": {},
   "outputs": [],
   "source": [
    "from PIL import Image, ImageDraw, ImageFont\n",
    "\n",
    "image = Image.open('/Users/chorapallijayendrapraveenkumar/Downloads/PineTools.com_files_2/04_subset_2_of_S1A_IW_SLC__1SDV_20180622T052725_20180622T052752_022465_026ED9_C660_split_Orb_Stack_ifg_flt_unw_dsp_TC_displacement_VV.png')\n",
    "width, height = image.size \n",
    "\n",
    "draw = ImageDraw.Draw(image)\n",
    "\n",
    "text = '22 June, 2018 - 04 July, 2018'\n",
    "textwidth, textheight = draw.textsize(text)\n",
    "\n",
    "margin = 10\n",
    "x = 140\n",
    "y = 15\n",
    "\n",
    "font = ImageFont.truetype(\"/Library/Fonts/Arial.ttf\", 20)\n",
    "\n",
    "draw.text((x, y), text,font = font,fill =(255,0,0))\n",
    "\n",
    "image.save('/Users/chorapallijayendrapraveenkumar/Downloads/cropped/05_22 June, 2018 - 04 July, 2018.png')\n",
    "\n",
    "# optional parameters like optimize and quality\n",
    "image.save('optimized.png', optimize=True, quality=50)"
   ]
  },
  {
   "cell_type": "code",
   "execution_count": null,
   "id": "6f0a1ab8",
   "metadata": {},
   "outputs": [],
   "source": []
  }
 ],
 "metadata": {
  "kernelspec": {
   "display_name": "Python 3 (ipykernel)",
   "language": "python",
   "name": "python3"
  },
  "language_info": {
   "codemirror_mode": {
    "name": "ipython",
    "version": 3
   },
   "file_extension": ".py",
   "mimetype": "text/x-python",
   "name": "python",
   "nbconvert_exporter": "python",
   "pygments_lexer": "ipython3",
   "version": "3.7.6"
  }
 },
 "nbformat": 4,
 "nbformat_minor": 5
}
